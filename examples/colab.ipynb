{
  "cells": [
    {
      "cell_type": "markdown",
      "metadata": {
        "id": "ut_EcJYGGvzG"
      },
      "source": [
        "# download-car - Colab"
      ]
    },
    {
      "cell_type": "markdown",
      "metadata": {
        "id": "f4q5YavVG26M"
      },
      "source": [
        "[Optional] To ensure permanent file storage in your Google Drive account, you can connect it to this Colab notebook. By executing the following code snippet, your Google Drive will be mounted and accessible for saving and retrieving files:\n"
      ]
    },
    {
      "cell_type": "code",
      "execution_count": null,
      "metadata": {
        "colab": {
          "base_uri": "https://localhost:8080/"
        },
        "id": "SewHp3K6wrri",
        "outputId": "7d857bc0-ed37-4602-9283-5b5b069f9ca3"
      },
      "outputs": [],
      "source": [
        "from google.colab import drive\n",
        "drive.mount('/content/drive')"
      ]
    },
    {
      "cell_type": "markdown",
      "metadata": {
        "id": "7hGN3FJHzWEr"
      },
      "source": [
        "## Install download-car package\n",
        "\n",
        "To install the download-car package and the Tesseract OCR engine in your Colab notebook, execute the following commands:"
      ]
    },
    {
      "cell_type": "code",
      "execution_count": null,
      "metadata": {
        "colab": {
          "base_uri": "https://localhost:8080/"
        },
        "id": "pUUHpgV3pIsz",
        "outputId": "232b64c3-65ab-49e0-8e94-9969234ee67a"
      },
      "outputs": [],
      "source": [
        "!pip install git+https://github.com/Malnati/download-car-for-pipeline\n",
        "!sudo apt install tesseract-ocr -y"
      ]
    },
    {
      "cell_type": "markdown",
      "metadata": {
        "id": "Nz3QGQ7EewXQ"
      },
      "source": [
        "## Usage"
      ]
    },
    {
      "cell_type": "code",
      "execution_count": 1,
      "metadata": {
        "id": "0SiOtCnby3TY"
      },
      "outputs": [],
      "source": [
        "from download_car import DownloadCar, Polygon, State\n",
        "from download-car.drivers import Paddle, Tesseract"
      ]
    },
    {
      "cell_type": "code",
      "execution_count": 2,
      "metadata": {
        "id": "mh1l468ry2pk"
      },
      "outputs": [],
      "source": [
        "# Create an instance of the DownloadCar class\n",
        "car = DownloadCar(driver=Tesseract)"
      ]
    },
    {
      "cell_type": "markdown",
      "metadata": {},
      "source": [
        "### Get release dates for each state"
      ]
    },
    {
      "cell_type": "code",
      "execution_count": 9,
      "metadata": {},
      "outputs": [
        {
          "name": "stdout",
          "output_type": "stream",
          "text": [
            "Release date for RR is: 03/07/2024\n"
          ]
        }
      ],
      "source": [
        "# Get release dates\n",
        "release_dates = car.get_release_dates()\n",
        "# get a single state value\n",
        "print(f\"Release date for RR is: {release_dates.get(State.RR)}\")\n",
        "\n",
        "# print(f\"Release date for RR is: {release_dates.get('RR')}\") # Also valid to use string 'RR'"
      ]
    },
    {
      "cell_type": "markdown",
      "metadata": {
        "id": "UOPTmr7J1JDy"
      },
      "source": [
        "### Download state (Polygon)"
      ]
    },
    {
      "cell_type": "code",
      "execution_count": null,
      "metadata": {
        "colab": {
          "base_uri": "https://localhost:8080/"
        },
        "id": "TgGAFvbG0RME",
        "outputId": "413c80e8-eda5-44e7-e37a-dec6af882845"
      },
      "outputs": [],
      "source": [
        "result = car.download_state(state=State.RR, polygon=Polygon.APPS, folder='drive/MyDrive/download-car/RR')\n",
        "# result = car.download_state(state='RR', polygon='APPS', folder='drive/MyDrive/download-car/RR') # Also valid to use string 'RR' and 'APPS'"
      ]
    },
    {
      "cell_type": "markdown",
      "metadata": {},
      "source": [
        "### Polygons"
      ]
    },
    {
      "cell_type": "code",
      "execution_count": 2,
      "metadata": {},
      "outputs": [
        {
          "name": "stdout",
          "output_type": "stream",
          "text": [
            "Help on class Polygon in module download-car.polygon:\n",
            "\n",
            "class Polygon(builtins.str, enum.Enum)\n",
            " |  Polygon(value, names=None, *, module=None, qualname=None, type=None, start=1)\n",
            " |  \n",
            " |  Enumeration representing DownloadCar polygons.\n",
            " |  \n",
            " |  Options:\n",
            " |      - AREA_PROPERTY: Perímetros dos imóveis (Property perimeters)\n",
            " |      - APPS: Área de Preservação Permanente (Permanent preservation area)\n",
            " |      - NATIVE_VEGETATION: Remanescente de Vegetação Nativa (Native Vegetation Remnants)\n",
            " |      - CONSOLIDATED_AREA: Área Consolidada (Consolidated Area)\n",
            " |      - AREA_FALL: Área de Pousio (Fallow Area)\n",
            " |      - HYDROGRAPHY: Hidrografia (Hydrography)\n",
            " |      - RESTRICTED_USE: Uso Restrito (Restricted Use)\n",
            " |      - ADMINISTRATIVE_SERVICE: Servidão Administrativa (Administrative Servitude)\n",
            " |      - LEGAL_RESERVE: Reserva Legal (Legal reserve)\n",
            " |  \n",
            " |  Method resolution order:\n",
            " |      Polygon\n",
            " |      builtins.str\n",
            " |      enum.Enum\n",
            " |      builtins.object\n",
            " |  \n",
            " |  Data and other attributes defined here:\n",
            " |  \n",
            " |  ADMINISTRATIVE_SERVICE = <Polygon.ADMINISTRATIVE_SERVICE: 'SERVIDAO_AD...\n",
            " |  \n",
            " |  APPS = <Polygon.APPS: 'APPS'>\n",
            " |  \n",
            " |  AREA_FALL = <Polygon.AREA_FALL: 'AREA_POUSIO'>\n",
            " |  \n",
            " |  AREA_PROPERTY = <Polygon.AREA_PROPERTY: 'AREA_IMOVEL'>\n",
            " |  \n",
            " |  CONSOLIDATED_AREA = <Polygon.CONSOLIDATED_AREA: 'AREA_CONSOLIDADA'>\n",
            " |  \n",
            " |  HYDROGRAPHY = <Polygon.HYDROGRAPHY: 'HIDROGRAFIA'>\n",
            " |  \n",
            " |  LEGAL_RESERVE = <Polygon.LEGAL_RESERVE: 'RESERVA_LEGAL'>\n",
            " |  \n",
            " |  NATIVE_VEGETATION = <Polygon.NATIVE_VEGETATION: 'VEGETACAO_NATIVA'>\n",
            " |  \n",
            " |  RESTRICTED_USE = <Polygon.RESTRICTED_USE: 'USO_RESTRITO'>\n",
            " |  \n",
            " |  ----------------------------------------------------------------------\n",
            " |  Data descriptors inherited from enum.Enum:\n",
            " |  \n",
            " |  name\n",
            " |      The name of the Enum member.\n",
            " |  \n",
            " |  value\n",
            " |      The value of the Enum member.\n",
            " |  \n",
            " |  ----------------------------------------------------------------------\n",
            " |  Readonly properties inherited from enum.EnumMeta:\n",
            " |  \n",
            " |  __members__\n",
            " |      Returns a mapping of member name->value.\n",
            " |      \n",
            " |      This mapping lists all enum members, including aliases. Note that this\n",
            " |      is a read-only view of the internal mapping.\n",
            "\n"
          ]
        }
      ],
      "source": [
        "help(Polygon)"
      ]
    },
    {
      "cell_type": "markdown",
      "metadata": {},
      "source": [
        "### State"
      ]
    },
    {
      "cell_type": "code",
      "execution_count": 3,
      "metadata": {},
      "outputs": [
        {
          "name": "stdout",
          "output_type": "stream",
          "text": [
            "Help on class State in module download-car.state:\n",
            "\n",
            "class State(builtins.str, enum.Enum)\n",
            " |  State(value, names=None, *, module=None, qualname=None, type=None, start=1)\n",
            " |  \n",
            " |  Enumeration representing states in Brazil.\n",
            " |  \n",
            " |  Options:\n",
            " |      - AC: Acre\n",
            " |      - AL: Alagoas\n",
            " |      - AM: Amazonas\n",
            " |      - AP: Amapá\n",
            " |      - BA: Bahia\n",
            " |      - CE: Ceará\n",
            " |      - DF: Distrito Federal\n",
            " |      - ES: Espírito Santo\n",
            " |      - GO: Goiás\n",
            " |      - MA: Maranhão\n",
            " |      - MG: Minas Gerais\n",
            " |      - MS: Mato Grosso do Sul\n",
            " |      - MT: Mato Grosso\n",
            " |      - PA: Pará\n",
            " |      - PB: Paraíba\n",
            " |      - PE: Pernambuco\n",
            " |      - PI: Piauí\n",
            " |      - PR: Paraná\n",
            " |      - RJ: Rio de Janeiro\n",
            " |      - RN: Rio Grande do Norte\n",
            " |      - RO: Rondônia\n",
            " |      - RR: Roraima\n",
            " |      - RS: Rio Grande do Sul\n",
            " |      - SC: Santa Catarina\n",
            " |      - SE: Sergipe\n",
            " |      - SP: São Paulo\n",
            " |      - TO: Tocantins\n",
            " |  \n",
            " |  Method resolution order:\n",
            " |      State\n",
            " |      builtins.str\n",
            " |      enum.Enum\n",
            " |      builtins.object\n",
            " |  \n",
            " |  Data and other attributes defined here:\n",
            " |  \n",
            " |  AC = <State.AC: 'AC'>\n",
            " |  \n",
            " |  AL = <State.AL: 'AL'>\n",
            " |  \n",
            " |  AM = <State.AM: 'AM'>\n",
            " |  \n",
            " |  AP = <State.AP: 'AP'>\n",
            " |  \n",
            " |  BA = <State.BA: 'BA'>\n",
            " |  \n",
            " |  CE = <State.CE: 'CE'>\n",
            " |  \n",
            " |  DF = <State.DF: 'DF'>\n",
            " |  \n",
            " |  ES = <State.ES: 'ES'>\n",
            " |  \n",
            " |  GO = <State.GO: 'GO'>\n",
            " |  \n",
            " |  MA = <State.MA: 'MA'>\n",
            " |  \n",
            " |  MG = <State.MG: 'MG'>\n",
            " |  \n",
            " |  MS = <State.MS: 'MS'>\n",
            " |  \n",
            " |  MT = <State.MT: 'MT'>\n",
            " |  \n",
            " |  PA = <State.PA: 'PA'>\n",
            " |  \n",
            " |  PB = <State.PB: 'PB'>\n",
            " |  \n",
            " |  PE = <State.PE: 'PE'>\n",
            " |  \n",
            " |  PI = <State.PI: 'PI'>\n",
            " |  \n",
            " |  PR = <State.PR: 'PR'>\n",
            " |  \n",
            " |  RJ = <State.RJ: 'RJ'>\n",
            " |  \n",
            " |  RN = <State.RN: 'RN'>\n",
            " |  \n",
            " |  RO = <State.RO: 'RO'>\n",
            " |  \n",
            " |  RR = <State.RR: 'RR'>\n",
            " |  \n",
            " |  RS = <State.RS: 'RS'>\n",
            " |  \n",
            " |  SC = <State.SC: 'SC'>\n",
            " |  \n",
            " |  SE = <State.SE: 'SE'>\n",
            " |  \n",
            " |  SP = <State.SP: 'SP'>\n",
            " |  \n",
            " |  TO = <State.TO: 'TO'>\n",
            " |  \n",
            " |  ----------------------------------------------------------------------\n",
            " |  Data descriptors inherited from enum.Enum:\n",
            " |  \n",
            " |  name\n",
            " |      The name of the Enum member.\n",
            " |  \n",
            " |  value\n",
            " |      The value of the Enum member.\n",
            " |  \n",
            " |  ----------------------------------------------------------------------\n",
            " |  Readonly properties inherited from enum.EnumMeta:\n",
            " |  \n",
            " |  __members__\n",
            " |      Returns a mapping of member name->value.\n",
            " |      \n",
            " |      This mapping lists all enum members, including aliases. Note that this\n",
            " |      is a read-only view of the internal mapping.\n",
            "\n"
          ]
        }
      ],
      "source": [
        "help(State)"
      ]
    }
  ],
  "metadata": {
    "colab": {
      "provenance": []
    },
    "kernelspec": {
      "display_name": "Python 3",
      "name": "python3"
    },
    "language_info": {
      "codemirror_mode": {
        "name": "ipython",
        "version": 3
      },
      "file_extension": ".py",
      "mimetype": "text/x-python",
      "name": "python",
      "nbconvert_exporter": "python",
      "pygments_lexer": "ipython3",
      "version": "3.10.12"
    }
  },
  "nbformat": 4,
  "nbformat_minor": 0
}
